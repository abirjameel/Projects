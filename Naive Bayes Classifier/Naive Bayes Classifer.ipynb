{
 "cells": [
  {
   "cell_type": "code",
   "execution_count": 5,
   "metadata": {
    "collapsed": true
   },
   "outputs": [],
   "source": [
    "import operator"
   ]
  },
  {
   "cell_type": "markdown",
   "metadata": {},
   "source": [
    "In this problem we will find the maximum likelihood word based on the preceding word Fill in the NextWordProbability procedure so that it takes in sample text and a word,and returns a dictionary with keys the set of words that come after, whose values are the number of times the key comes after that word."
   ]
  },
  {
   "cell_type": "code",
   "execution_count": 1,
   "metadata": {
    "collapsed": true
   },
   "outputs": [],
   "source": [
    "def NextWordProbability(sampletext,word):\n",
    "    myDict = dict()\n",
    "    lst = sampletext.split(\" \")\n",
    "    if word in lst:\n",
    "        lstUpdate = lst[lst.index(word)+1]\n",
    "        myDict[lstUpdate] = lst.count(lstUpdate)\n",
    "    return myDict"
   ]
  },
  {
   "cell_type": "code",
   "execution_count": 2,
   "metadata": {
    "collapsed": true
   },
   "outputs": [],
   "source": [
    "#------------------------------------------------------------------\n",
    "\n",
    "#\n",
    "#   Bayes Optimal Classifier\n",
    "#\n",
    "#   In this quiz we will compute the optimal label for a second missing word in a row\n",
    "#   based on the possible words that could be in the first blank\n",
    "#\n",
    "#   Finish the procedurce, LaterWords(), below\n",
    "#\n",
    "#   You may want to import your code from the previous programming exercise!\n",
    "#\n",
    "sample_memo = \"\"\"Milt, we're gonna need to go ahead and move you downstairs into storage B. We have some new people coming in, \n",
    "and we need all the space we can get. So if you could just go ahead and pack up your stuff and move it down there, \n",
    "that would be terrific, OK? Oh, and remember: next Friday... is Hawaiian shirt day. So, you know, if you want to, go \n",
    "ahead and wear a Hawaiian shirt and jeans. Oh, oh, and I almost forgot. Ahh, I'm also gonna need you to go ahead and \n",
    "come in on Sunday, too...Hello Peter, whats happening? Ummm, I'm gonna need you to go ahead and come in tomorrow. So \n",
    "if you could be here around 9 that would be great, mmmk... oh oh! and I almost forgot ahh, I'm also gonna need you to \n",
    "go ahead and come in on Sunday too, kay. We ahh lost some people this week and ah, we sorta need to play catch up.\"\"\"\n",
    "\n",
    "\n",
    "corrupted_memo = '''\n",
    "Yeah, I'm gonna --- you to go ahead --- --- complain about this. Oh, and if you could --- --- and sit at the kids' table, that'd be --- \n",
    "'''\n",
    "\n",
    "data_list = sample_memo.strip().split()\n",
    "\n",
    "words_to_guess = [\"ahead\",\"could\"]"
   ]
  },
  {
   "cell_type": "code",
   "execution_count": 4,
   "metadata": {
    "collapsed": true
   },
   "outputs": [],
   "source": [
    "def LaterWords(sample,word,distance):\n",
    "    '''@param sample: a sample of text to draw from\n",
    "    @param word: a word occuring before a corrupted sequence\n",
    "    @param distance: how many words later to estimate (i.e. 1 for the next word, 2 for the word after that)\n",
    "    @returns: a single word which is the most likely possibility\n",
    "    '''\n",
    "    import operator\n",
    "    # TODO: Given a word, collect the relative probabilities of possible following words\n",
    "    # from @sample. You may want to import your code from the maximum likelihood exercise.\n",
    "    firstWord = NextWordProbability(sample,word).keys()[0]\n",
    "    # TODO: Repeat the above process--for each distance beyond 1, evaluate the words that\n",
    "    # might come after each word, and combine them weighting by relative probability\n",
    "    # into an estimate of what might appear next.\n",
    "\n",
    "    myDict2 = dict()\n",
    "    lstUpdate2 = list()\n",
    "    for i in range(len(data_list)):\n",
    "        if firstWord == data_list[i]:\n",
    "            lstUpdate2.append(data_list[i+1])\n",
    "    for word in lstUpdate2:\n",
    "        myDict2[word] = lstUpdate2.count(word)\n",
    "    sumOfVal = sum(myDict2.values())\n",
    "    # Calculate Second Word Probability given First Word\n",
    "    probabilities2 = {k: v / float(sumOfVal) for k, v in myDict2.iteritems()}\n",
    "    sortedDict = sorted(probabilities2.items(), key=operator.itemgetter(1), reverse=True)\n",
    "    \n",
    "    return sortedDict[0][0]"
   ]
  },
  {
   "cell_type": "code",
   "execution_count": null,
   "metadata": {
    "collapsed": true
   },
   "outputs": [],
   "source": []
  }
 ],
 "metadata": {
  "kernelspec": {
   "display_name": "Python 2",
   "language": "python",
   "name": "python2"
  },
  "language_info": {
   "codemirror_mode": {
    "name": "ipython",
    "version": 2
   },
   "file_extension": ".py",
   "mimetype": "text/x-python",
   "name": "python",
   "nbconvert_exporter": "python",
   "pygments_lexer": "ipython2",
   "version": "2.7.13"
  }
 },
 "nbformat": 4,
 "nbformat_minor": 0
}
